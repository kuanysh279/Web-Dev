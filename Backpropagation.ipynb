{
  "nbformat": 4,
  "nbformat_minor": 0,
  "metadata": {
    "colab": {
      "provenance": [],
      "include_colab_link": true
    },
    "kernelspec": {
      "name": "python3",
      "display_name": "Python 3"
    },
    "language_info": {
      "name": "python"
    }
  },
  "cells": [
    {
      "cell_type": "markdown",
      "metadata": {
        "id": "view-in-github",
        "colab_type": "text"
      },
      "source": [
        "<a href=\"https://colab.research.google.com/github/kuanysh279/Web-Dev/blob/main/Backpropagation.ipynb\" target=\"_parent\"><img src=\"https://colab.research.google.com/assets/colab-badge.svg\" alt=\"Open In Colab\"/></a>"
      ]
    },
    {
      "cell_type": "code",
      "execution_count": null,
      "metadata": {
        "colab": {
          "base_uri": "https://localhost:8080/",
          "height": 435
        },
        "id": "5CCF0ReiIfw1",
        "outputId": "62d627b1-8a3f-4bfc-92b5-a4384f9175cc"
      },
      "outputs": [
        {
          "output_type": "display_data",
          "data": {
            "text/plain": [
              "<Figure size 640x480 with 1 Axes>"
            ],
            "image/png": "[encoded data removed]"
          },
          "metadata": {}
        }
      ],
      "source": [
        "import numpy as np\n",
        "import matplotlib.pyplot as plt\n",
        "\n",
        "# Define the input data (3x3 pictures, each represented as a flattened 1D array)\n",
        "input_data = np.array([[0, 1, 1,\n",
        "                        0, 0, 1,\n",
        "                        0, 1, 1],\n",
        "                       [1, 1, 1,\n",
        "                        1, 1, 1,\n",
        "                        1, 0, 1],\n",
        "                       [1, 0, 1,\n",
        "                        1, 0, 0,\n",
        "                        1, 0, 1],\n",
        "                       [1, 1, 1,\n",
        "                        1, 0, 1,\n",
        "                        0, 0, 0],\n",
        "                       [1, 0, 1,\n",
        "                        0, 0, 0,\n",
        "                        1, 1, 1],\n",
        "                       [1, 1, 1,\n",
        "                        1, 1, 1,\n",
        "                        0, 0, 1],\n",
        "                       [1, 1, 1,\n",
        "                        1, 1, 1,\n",
        "                        1, 0, 0]])\n",
        "\n",
        "# Define the target labels (1 for positive, 0 for negative)\n",
        "target_labels = np.array([[0, 1],\n",
        "                          [1, 0],\n",
        "                          [0, 1],\n",
        "                          [1, 0],\n",
        "                          [0, 1],\n",
        "                          [1, 0],\n",
        "                          [1, 0]])\n",
        "\n",
        "image_2d = np.reshape(input_data[0], (3, 3))\n",
        "\n",
        "plt.imshow(image_2d, cmap='gray')\n",
        "#plt.axis('off')\n",
        "plt.show()\n"
      ]
    },
    {
      "cell_type": "code",
      "source": [
        "# Define the activation function (sigmoid function)\n",
        "def sigmoid(x):\n",
        "    return 1 / (1 + np.exp(-x))\n",
        "\n",
        "# Initialize weights for the hidden layer and output layer randomly\n",
        "np.random.seed(42)  # for reproducibility\n",
        "hidden_layer_weights = np.random.rand(9, 4)  # 9 input features, 4 hidden neurons\n",
        "output_layer_weights = np.random.rand(4, 2)  # 4 hidden neurons, 2 output neurons\n",
        "\n"
      ],
      "metadata": {
        "id": "_pmuGgMpJSWK"
      },
      "execution_count": null,
      "outputs": []
    },
    {
      "cell_type": "code",
      "source": [
        "print(hidden_layer_weights)\n"
      ],
      "metadata": {
        "colab": {
          "base_uri": "https://localhost:8080/"
        },
        "id": "5vGuAsjiGeNk",
        "outputId": "ed933f24-9daa-4899-d393-ab9cd83eb432"
      },
      "execution_count": null,
      "outputs": [
        {
          "output_type": "stream",
          "name": "stdout",
          "text": [
            "[[0.37454012 0.95071431 0.73199394 0.59865848]\n",
            " [0.15601864 0.15599452 0.05808361 0.86617615]\n",
            " [0.60111501 0.70807258 0.02058449 0.96990985]\n",
            " [0.83244264 0.21233911 0.18182497 0.18340451]\n",
            " [0.30424224 0.52475643 0.43194502 0.29122914]\n",
            " [0.61185289 0.13949386 0.29214465 0.36636184]\n",
            " [0.45606998 0.78517596 0.19967378 0.51423444]\n",
            " [0.59241457 0.04645041 0.60754485 0.17052412]\n",
            " [0.06505159 0.94888554 0.96563203 0.80839735]]\n"
          ]
        }
      ]
    },
    {
      "cell_type": "code",
      "source": [
        "# Learning rate\n",
        "learning_rate = 0.1\n",
        "\n",
        "# Number of training epochs\n",
        "epochs = 10000\n",
        "\n",
        "# Training the neural network\n",
        "for epoch in range(epochs):\n",
        "    # Forward propagation\n",
        "    hidden_layer_output = sigmoid(np.dot(input_data, hidden_layer_weights))\n",
        "    output_layer_output = sigmoid(np.dot(hidden_layer_output, output_layer_weights))\n",
        "\n",
        "    # Calculate the error (Mean Squared Error)\n",
        "    error = np.mean((output_layer_output - target_labels) ** 2)\n",
        "\n",
        "    # Backpropagation\n",
        "    output_error = output_layer_output - target_labels\n",
        "    output_delta = output_error * output_layer_output * (1 - output_layer_output)\n",
        "\n",
        "    hidden_layer_error = output_delta.dot(output_layer_weights.T)\n",
        "    hidden_layer_delta = hidden_layer_error * hidden_layer_output * (1 - hidden_layer_output)\n",
        "\n",
        "    # Update weights using gradient descent\n",
        "    output_layer_weights -= learning_rate * hidden_layer_output.T.dot(output_delta)\n",
        "    hidden_layer_weights -= learning_rate * input_data.T.dot(hidden_layer_delta)\n",
        "\n",
        "    # Print the error every 1000 epochs\n",
        "    if epoch % 1000 == 0:\n",
        "        print(f'Epoch: {epoch}, Error: {error:.4f}')\n",
        "\n"
      ],
      "metadata": {
        "colab": {
          "base_uri": "https://localhost:8080/"
        },
        "id": "xnlQKQstGcan",
        "outputId": "5c4d7421-ddf6-47f4-cdfe-e12ac26e500d"
      },
      "execution_count": null,
      "outputs": [
        {
          "output_type": "stream",
          "name": "stdout",
          "text": [
            "Epoch: 0, Error: 0.0011\n",
            "Epoch: 1000, Error: 0.0006\n",
            "Epoch: 2000, Error: 0.0005\n",
            "Epoch: 3000, Error: 0.0004\n",
            "Epoch: 4000, Error: 0.0003\n",
            "Epoch: 5000, Error: 0.0002\n",
            "Epoch: 6000, Error: 0.0002\n",
            "Epoch: 7000, Error: 0.0002\n",
            "Epoch: 8000, Error: 0.0002\n",
            "Epoch: 9000, Error: 0.0001\n"
          ]
        }
      ]
    },
    {
      "cell_type": "code",
      "source": [
        "# Testing the neural network with a new input\n",
        "test_input = np.array([[1, 1, 1,\n",
        "                        1, 1, 1,\n",
        "                        1, 1, 0]])\n",
        "hidden_layer_output = sigmoid(np.dot(test_input, hidden_layer_weights))\n",
        "#print(hidden_layer_output)\n",
        "output_layer_output = sigmoid(np.dot(hidden_layer_output, output_layer_weights))\n",
        "print(output_layer_output)\n",
        "predicted_label = np.argmax(output_layer_output)\n",
        "image_2d = np.reshape(test_input, (3, 3))\n",
        "\n",
        "labels=['something on the horizon', 'undefined']\n",
        "plt.imshow(image_2d, cmap='gray')\n",
        "#plt.axis('off')\n",
        "plt.show()\n",
        "\n",
        "print(f'Predicted Label: {labels[predicted_label]}')"
      ],
      "metadata": {
        "colab": {
          "base_uri": "https://localhost:8080/",
          "height": 470
        },
        "id": "01O39LjTQoUf",
        "outputId": "761d4fda-6d4d-4485-ed55-524b68595a7a"
      },
      "execution_count": null,
      "outputs": [
        {
          "output_type": "stream",
          "name": "stdout",
          "text": [
            "[[0.98801883 0.01190756]]\n"
          ]
        },
        {
          "output_type": "display_data",
          "data": {
            "text/plain": [
              "<Figure size 640x480 with 1 Axes>"
            ],
            "image/png": "[encoded data removed]"
          },
          "metadata": {}
        },
        {
          "output_type": "stream",
          "name": "stdout",
          "text": [
            "Predicted Label: something on the horizon\n"
          ]
        }
      ]
    }
  ]
}